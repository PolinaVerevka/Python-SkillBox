{
 "cells": [
  {
   "cell_type": "markdown",
   "metadata": {},
   "source": [
    "Импортируем модуль sqlite3 для работы с базами данных.\n",
    "Создаем два соединения с базами данных \"netflix.sqlite\" и \"task1.sqlite\".\n",
    "Устанавливаем фабрика строк для базы данных \"netflix.sqlite\", которая возвращает словарь с полями и значениями для каждой строки результата запроса."
   ]
  },
  {
   "cell_type": "code",
   "execution_count": 1,
   "metadata": {},
   "outputs": [],
   "source": [
    "import sqlite3\n",
    "netflix_db = sqlite3.connect('netflix.sqlite')\n",
    "task_db = sqlite3.connect(\"task1.sqlite\")\n",
    "netflix_db.row_factory = lambda cursor, row: {col[0]: row[i] for i, col in enumerate(cursor.description)}"
   ]
  },
  {
   "cell_type": "markdown",
   "metadata": {},
   "source": [
    "С помощью метода execute() выполняем запрос на создание таблицы films с полями film_id, type, title, director, country, date_added, release_year, rating, duration, listed_in и description.\n",
    "С помощью метода execute() выполняем запрос на создание таблицы actors с полями actor_id и actor_name.\n",
    "С помощью метода execute() выполняется запрос на создание таблицы actors_films с полями film_id и actor_id, а также устанавливаются ограничения PRIMARY KEY (actor_id, film_id) и FOREIGN KEY (film_id) REFERENCES films(film_id) и FOREIGN KEY (actor_id) REFERENCES actors(actor_id), чтобы связать таблицы между собой."
   ]
  },
  {
   "cell_type": "code",
   "execution_count": 2,
   "metadata": {},
   "outputs": [],
   "source": [
    "task_cur = task_db.cursor()\n",
    "with task_db:\n",
    "  task_cur.execute(\"\"\"\n",
    "  CREATE TABLE films (\n",
    "    film_id INTEGER PRIMARY KEY AUTOINCREMENT,\n",
    "    type TEXT,\n",
    "    title TEXT,\n",
    "    director TEXT,\n",
    "    country TEXT,\n",
    "    date_added TEXT,\n",
    "    release_year INTEGER,\n",
    "    rating TEXT,\n",
    "    duration TEXT,\n",
    "    listed_in TEXT,\n",
    "    description TEXT\n",
    "  );\n",
    "  \"\"\")\n",
    "  task_cur.execute(\"\"\"\n",
    "  CREATE TABLE actors (\n",
    "    actor_id INTEGER PRIMARY KEY AUTOINCREMENT,\n",
    "    actor_name TEXT UNIQUE\n",
    "  );\n",
    "  \"\"\")\n",
    "  task_cur.execute(\"\"\"\n",
    "    CREATE TABLE actors_films (\n",
    "    film_id INTEGER,\n",
    "    actor_id INTEGER,\n",
    "    PRIMARY KEY (actor_id, film_id),\n",
    "    FOREIGN KEY (film_id) REFERENCES films(film_id),\n",
    "    FOREIGN KEY (actor_id) REFERENCES actors(actor_id)\n",
    "  );\n",
    "  \"\"\")"
   ]
  },
  {
   "cell_type": "markdown",
   "metadata": {},
   "source": [
    "Задание 1"
   ]
  },
  {
   "cell_type": "code",
   "execution_count": 3,
   "metadata": {},
   "outputs": [],
   "source": [
    "# Создаем курсоры для обоих баз данных.\n",
    "netflix_cur = netflix_db.cursor()\n",
    "task_cur = task_db.cursor()\n",
    "\n",
    "# Создаеv переменнe. insert_query, в которой хранится запрос на добавление данных в таблицу films.\n",
    "insert_query = \"\"\"\n",
    "INSERT INTO films (type, title, director, country, date_added, release_year, rating, duration, listed_in, description)\n",
    "VALUES (:type, :title, :director, :country, :date_added, :release_year, :rating, :duration, :listed_in, :description);\n",
    "\"\"\"\n",
    "\n",
    "# Создаем переменную actors_films_insert_query, в которой хранится запрос на добавление данных в таблицу actors_films.\n",
    "actors_films_insert_query = \"\"\"\n",
    "INSERT OR IGNORE INTO actors_films (film_id, actor_id)\n",
    "VALUES (?, (SELECT actor_id FROM actors WHERE actor_name = ?));\n",
    "\"\"\"\n",
    "\n",
    "with netflix_db, task_db:\n",
    "    # Итерация по строкам таблицы netflix_titles в базе данных netflix_db\n",
    "    for row in netflix_cur.execute(\"SELECT * FROM netflix_titles\"):\n",
    "        # Выполнение запроса на вставку данных из текущей строки в таблицу films базы данных task_db\n",
    "        task_cur.execute(insert_query, row)\n",
    "        \n",
    "        # Получение ID последней вставленной записи в таблицу films\n",
    "        film_id = task_cur.execute(\"SELECT last_insert_rowid() FROM films;\").fetchone()[0]\n",
    "        \n",
    "        # Итерация по актерам в колонке cast текущей строки\n",
    "        for actor in row[\"cast\"].split(\", \"):\n",
    "            # Вставка актера в таблицу actors, игнорируя дубликаты\n",
    "            task_cur.execute(\"INSERT OR IGNORE INTO actors (actor_name) VALUES (?)\", (actor,))\n",
    "            \n",
    "            # Привязка актера к фильму в таблице actors_films\n",
    "            task_cur.execute(actors_films_insert_query, (film_id, actor))"
   ]
  },
  {
   "cell_type": "markdown",
   "metadata": {},
   "source": [
    "Задание 2:"
   ]
  },
  {
   "cell_type": "code",
   "execution_count": 4,
   "metadata": {},
   "outputs": [
    {
     "data": {
      "text/plain": [
       "('John Paul Tremblay', 'Robb Wells')"
      ]
     },
     "execution_count": 4,
     "metadata": {},
     "output_type": "execute_result"
    }
   ],
   "source": [
    "with task_db:\n",
    "    # Выполнение запроса для получения наиболее часто встречающейся пары актеров\n",
    "    most_freq_pair = task_cur.execute(\"\"\"\n",
    "    SELECT a1.actor_name as name1, a2.actor_name as name2\n",
    "    FROM actors_films af1\n",
    "    JOIN actors_films af2 ON af1.film_id = af2.film_id AND af1.actor_id < af2.actor_id\n",
    "    JOIN actors a1 ON af1.actor_id = a1.actor_id\n",
    "    JOIN actors a2 ON af2.actor_id = a2.actor_id\n",
    "    GROUP BY af1.actor_id, af2.actor_id\n",
    "    ORDER BY COUNT(*) DESC\n",
    "    LIMIT 1;\n",
    "    \"\"\").fetchone()\n",
    "most_freq_pair"
   ]
  }
 ],
 "metadata": {
  "kernelspec": {
   "display_name": "Python 3",
   "language": "python",
   "name": "python3"
  },
  "language_info": {
   "codemirror_mode": {
    "name": "ipython",
    "version": 3
   },
   "file_extension": ".py",
   "mimetype": "text/x-python",
   "name": "python",
   "nbconvert_exporter": "python",
   "pygments_lexer": "ipython3",
   "version": "3.11.5"
  }
 },
 "nbformat": 4,
 "nbformat_minor": 2
}
